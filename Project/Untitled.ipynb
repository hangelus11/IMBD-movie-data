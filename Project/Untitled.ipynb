{
 "cells": [
  {
   "cell_type": "code",
   "execution_count": 60,
   "metadata": {},
   "outputs": [],
   "source": [
    "import matplotlib.pyplot as plt\n",
    "import pandas as pd\n",
    "import numpy as np\n",
    "import scipy.stats as st\n",
    "\n",
    "movies_data_raw = pd.read_csv(IMDB_movies)\n",
    "rating_data_raw = pd.read_csv(IMDB_ratings)\n",
    "names_data_raw = pd.read_csv(IMDB_names)\n",
    "title_data_raw = pd.read_csv(IMDB_title)\n",
    "\n",
    "IMDB_movies = \"IMDb_movies.csv\"\n",
    "IMDB_ratings = \"IMDb_ratings.csv\"\n",
    "IMDB_names = \"IMDb_names.csv\"\n",
    "IMDB_title = \"IMDb_title_principals.csv\"\n"
   ]
  },
  {
   "cell_type": "code",
   "execution_count": 54,
   "metadata": {},
   "outputs": [
    {
     "data": {
      "text/plain": [
       "(81273, 22)"
      ]
     },
     "execution_count": 54,
     "metadata": {},
     "output_type": "execute_result"
    }
   ],
   "source": [
    "movies_data_raw.shape"
   ]
  },
  {
   "cell_type": "code",
   "execution_count": 69,
   "metadata": {},
   "outputs": [
    {
     "data": {
      "text/plain": [
       "Index(['imdb_title_id', 'title', 'original_title', 'year', 'date_published',\n",
       "       'genre', 'duration', 'country', 'language', 'director', 'writer',\n",
       "       'production_company', 'actors', 'description', 'avg_vote', 'votes',\n",
       "       'budget', 'usa_gross_income', 'worlwide_gross_income', 'metascore',\n",
       "       'reviews_from_users', 'reviews_from_critics'],\n",
       "      dtype='object')"
      ]
     },
     "execution_count": 69,
     "metadata": {},
     "output_type": "execute_result"
    }
   ],
   "source": [
    "movies_data_raw.columns"
   ]
  },
  {
   "cell_type": "code",
   "execution_count": 72,
   "metadata": {},
   "outputs": [
    {
     "ename": "TypeError",
     "evalue": "string indices must be integers",
     "output_type": "error",
     "traceback": [
      "\u001b[1;31m---------------------------------------------------------------------------\u001b[0m",
      "\u001b[1;31mTypeError\u001b[0m                                 Traceback (most recent call last)",
      "\u001b[1;32m<ipython-input-72-119a4ad3109d>\u001b[0m in \u001b[0;36m<module>\u001b[1;34m\u001b[0m\n\u001b[0;32m      1\u001b[0m \u001b[1;31m# Delet budget and gross income in other currencies\u001b[0m\u001b[1;33m\u001b[0m\u001b[1;33m\u001b[0m\u001b[1;33m\u001b[0m\u001b[0m\n\u001b[1;32m----> 2\u001b[1;33m \u001b[0mIMDB_movies\u001b[0m \u001b[1;33m=\u001b[0m \u001b[0mIMDB_movies\u001b[0m\u001b[1;33m[\u001b[0m\u001b[1;33m~\u001b[0m\u001b[0mIMDB_movies\u001b[0m\u001b[1;33m[\u001b[0m\u001b[1;34m'budget'\u001b[0m\u001b[1;33m]\u001b[0m\u001b[1;33m.\u001b[0m\u001b[0mstr\u001b[0m\u001b[1;33m.\u001b[0m\u001b[0mmatch\u001b[0m\u001b[1;33m(\u001b[0m\u001b[1;34mr'([A-Z]+)'\u001b[0m\u001b[1;33m)\u001b[0m\u001b[1;33m]\u001b[0m\u001b[1;33m\u001b[0m\u001b[1;33m\u001b[0m\u001b[0m\n\u001b[0m\u001b[0;32m      3\u001b[0m \u001b[0mIMDB_movies\u001b[0m \u001b[1;33m=\u001b[0m \u001b[0mIMDB_movies\u001b[0m\u001b[1;33m[\u001b[0m\u001b[1;33m~\u001b[0m\u001b[0mIMDB_movies\u001b[0m\u001b[1;33m[\u001b[0m\u001b[1;34m'usa_gross_income'\u001b[0m\u001b[1;33m]\u001b[0m\u001b[1;33m.\u001b[0m\u001b[0mstr\u001b[0m\u001b[1;33m.\u001b[0m\u001b[0mmatch\u001b[0m\u001b[1;33m(\u001b[0m\u001b[1;34mr'($[A-Z]+\\w)'\u001b[0m\u001b[1;33m)\u001b[0m\u001b[1;33m]\u001b[0m\u001b[1;33m\u001b[0m\u001b[1;33m\u001b[0m\u001b[0m\n\u001b[0;32m      4\u001b[0m \u001b[0mIMDB_movies\u001b[0m \u001b[1;33m=\u001b[0m \u001b[0mIMDB_movies\u001b[0m\u001b[1;33m[\u001b[0m\u001b[1;33m~\u001b[0m\u001b[0mIMDB_movies\u001b[0m\u001b[1;33m[\u001b[0m\u001b[1;34m'worlwide_gross_income'\u001b[0m\u001b[1;33m]\u001b[0m\u001b[1;33m.\u001b[0m\u001b[0mstr\u001b[0m\u001b[1;33m.\u001b[0m\u001b[0mmatch\u001b[0m\u001b[1;33m(\u001b[0m\u001b[1;34mr'($[A-Z]+\\w)'\u001b[0m\u001b[1;33m)\u001b[0m\u001b[1;33m]\u001b[0m\u001b[1;33m\u001b[0m\u001b[1;33m\u001b[0m\u001b[0m\n\u001b[0;32m      5\u001b[0m \u001b[1;33m\u001b[0m\u001b[0m\n",
      "\u001b[1;31mTypeError\u001b[0m: string indices must be integers"
     ]
    }
   ],
   "source": [
    "# Delet budget and gross income in other currencies\n",
    "IMDB_movies = IMDB_movies[~IMDB_movies['budget'].str.match(r'([A-Z]+)')]\n",
    "IMDB_movies = IMDB_movies[~IMDB_movies['usa_gross_income'].str.match(r'($[A-Z]+\\w)')]\n",
    "IMDB_movies = IMDB_movies[~IMDB_movies['worlwide_gross_income'].str.match(r'($[A-Z]+\\w)')]\n",
    "\n",
    "# Delet '$' symbol from table\n",
    "IMDB_movies['budget'] = IMDB_movies['budget'].str.replace('$','')\n",
    "IMDB_movies['usa_gross_income'] = IMDB_movies['usa_gross_income'].str.replace('$','')\n",
    "IMDB_movies['worlwide_gross_income'] = IMDB_movies['worlwide_gross_income'].str.replace('$','')\n",
    "\n",
    "IMDB_movies = movies.reset_index(drop=True)\n",
    "\n",
    "IMDB_movies\n"
   ]
  },
  {
   "cell_type": "code",
   "execution_count": 44,
   "metadata": {},
   "outputs": [],
   "source": [
    "IMDB_title = \"IMDb_title_principals.csv\"\n",
    "title_data_raw = pd.read_csv(IMDB_movies)"
   ]
  },
  {
   "cell_type": "code",
   "execution_count": 10,
   "metadata": {},
   "outputs": [
    {
     "data": {
      "text/plain": [
       "(377848, 6)"
      ]
     },
     "execution_count": 10,
     "metadata": {},
     "output_type": "execute_result"
    }
   ],
   "source": [
    "title_data_raw.shape"
   ]
  },
  {
   "cell_type": "code",
   "execution_count": 62,
   "metadata": {},
   "outputs": [
    {
     "data": {
      "text/plain": [
       "Index(['imdb_title_id', 'ordering', 'imdb_name_id', 'category', 'job',\n",
       "       'characters'],\n",
       "      dtype='object')"
      ]
     },
     "execution_count": 62,
     "metadata": {},
     "output_type": "execute_result"
    }
   ],
   "source": [
    "title_data_raw.columns"
   ]
  },
  {
   "cell_type": "code",
   "execution_count": 30,
   "metadata": {},
   "outputs": [
    {
     "data": {
      "text/html": [
       "<div>\n",
       "<style scoped>\n",
       "    .dataframe tbody tr th:only-of-type {\n",
       "        vertical-align: middle;\n",
       "    }\n",
       "\n",
       "    .dataframe tbody tr th {\n",
       "        vertical-align: top;\n",
       "    }\n",
       "\n",
       "    .dataframe thead th {\n",
       "        text-align: right;\n",
       "    }\n",
       "</style>\n",
       "<table border=\"1\" class=\"dataframe\">\n",
       "  <thead>\n",
       "    <tr style=\"text-align: right;\">\n",
       "      <th></th>\n",
       "      <th>imdb_title_id</th>\n",
       "      <th>ordering</th>\n",
       "      <th>category</th>\n",
       "    </tr>\n",
       "  </thead>\n",
       "  <tbody>\n",
       "    <tr>\n",
       "      <td>0</td>\n",
       "      <td>tt0000574</td>\n",
       "      <td>1</td>\n",
       "      <td>actress</td>\n",
       "    </tr>\n",
       "    <tr>\n",
       "      <td>1</td>\n",
       "      <td>tt0000574</td>\n",
       "      <td>2</td>\n",
       "      <td>actor</td>\n",
       "    </tr>\n",
       "    <tr>\n",
       "      <td>2</td>\n",
       "      <td>tt0000574</td>\n",
       "      <td>3</td>\n",
       "      <td>actor</td>\n",
       "    </tr>\n",
       "    <tr>\n",
       "      <td>3</td>\n",
       "      <td>tt0000574</td>\n",
       "      <td>4</td>\n",
       "      <td>actress</td>\n",
       "    </tr>\n",
       "    <tr>\n",
       "      <td>4</td>\n",
       "      <td>tt0000574</td>\n",
       "      <td>5</td>\n",
       "      <td>director</td>\n",
       "    </tr>\n",
       "    <tr>\n",
       "      <td>5</td>\n",
       "      <td>tt0000574</td>\n",
       "      <td>6</td>\n",
       "      <td>producer</td>\n",
       "    </tr>\n",
       "    <tr>\n",
       "      <td>6</td>\n",
       "      <td>tt0000574</td>\n",
       "      <td>7</td>\n",
       "      <td>producer</td>\n",
       "    </tr>\n",
       "    <tr>\n",
       "      <td>7</td>\n",
       "      <td>tt0000574</td>\n",
       "      <td>8</td>\n",
       "      <td>producer</td>\n",
       "    </tr>\n",
       "    <tr>\n",
       "      <td>8</td>\n",
       "      <td>tt0000574</td>\n",
       "      <td>9</td>\n",
       "      <td>composer</td>\n",
       "    </tr>\n",
       "    <tr>\n",
       "      <td>9</td>\n",
       "      <td>tt0000574</td>\n",
       "      <td>10</td>\n",
       "      <td>cinematographer</td>\n",
       "    </tr>\n",
       "    <tr>\n",
       "      <td>10</td>\n",
       "      <td>tt0002130</td>\n",
       "      <td>1</td>\n",
       "      <td>actor</td>\n",
       "    </tr>\n",
       "    <tr>\n",
       "      <td>11</td>\n",
       "      <td>tt0002130</td>\n",
       "      <td>2</td>\n",
       "      <td>actor</td>\n",
       "    </tr>\n",
       "    <tr>\n",
       "      <td>12</td>\n",
       "      <td>tt0002130</td>\n",
       "      <td>3</td>\n",
       "      <td>actor</td>\n",
       "    </tr>\n",
       "    <tr>\n",
       "      <td>13</td>\n",
       "      <td>tt0002130</td>\n",
       "      <td>4</td>\n",
       "      <td>actor</td>\n",
       "    </tr>\n",
       "    <tr>\n",
       "      <td>14</td>\n",
       "      <td>tt0002130</td>\n",
       "      <td>5</td>\n",
       "      <td>director</td>\n",
       "    </tr>\n",
       "    <tr>\n",
       "      <td>15</td>\n",
       "      <td>tt0002130</td>\n",
       "      <td>6</td>\n",
       "      <td>director</td>\n",
       "    </tr>\n",
       "    <tr>\n",
       "      <td>16</td>\n",
       "      <td>tt0002130</td>\n",
       "      <td>7</td>\n",
       "      <td>writer</td>\n",
       "    </tr>\n",
       "    <tr>\n",
       "      <td>17</td>\n",
       "      <td>tt0002130</td>\n",
       "      <td>8</td>\n",
       "      <td>composer</td>\n",
       "    </tr>\n",
       "    <tr>\n",
       "      <td>18</td>\n",
       "      <td>tt0002130</td>\n",
       "      <td>9</td>\n",
       "      <td>cinematographer</td>\n",
       "    </tr>\n",
       "    <tr>\n",
       "      <td>19</td>\n",
       "      <td>tt0002130</td>\n",
       "      <td>10</td>\n",
       "      <td>production_designer</td>\n",
       "    </tr>\n",
       "  </tbody>\n",
       "</table>\n",
       "</div>"
      ],
      "text/plain": [
       "   imdb_title_id  ordering             category\n",
       "0      tt0000574         1              actress\n",
       "1      tt0000574         2                actor\n",
       "2      tt0000574         3                actor\n",
       "3      tt0000574         4              actress\n",
       "4      tt0000574         5             director\n",
       "5      tt0000574         6             producer\n",
       "6      tt0000574         7             producer\n",
       "7      tt0000574         8             producer\n",
       "8      tt0000574         9             composer\n",
       "9      tt0000574        10      cinematographer\n",
       "10     tt0002130         1                actor\n",
       "11     tt0002130         2                actor\n",
       "12     tt0002130         3                actor\n",
       "13     tt0002130         4                actor\n",
       "14     tt0002130         5             director\n",
       "15     tt0002130         6             director\n",
       "16     tt0002130         7               writer\n",
       "17     tt0002130         8             composer\n",
       "18     tt0002130         9      cinematographer\n",
       "19     tt0002130        10  production_designer"
      ]
     },
     "execution_count": 30,
     "metadata": {},
     "output_type": "execute_result"
    }
   ],
   "source": [
    "title_data = title_data_raw.set_index(['imdb_title_id'])\n",
    "title_data_reduced = title_data_raw[['imdb_title_id', 'ordering', 'category']]\n",
    "title_data_reduced.head(20)"
   ]
  },
  {
   "cell_type": "code",
   "execution_count": 31,
   "metadata": {},
   "outputs": [
    {
     "data": {
      "text/plain": [
       "imdb_title_id    377848\n",
       "ordering         377848\n",
       "category         377848\n",
       "dtype: int64"
      ]
     },
     "execution_count": 31,
     "metadata": {},
     "output_type": "execute_result"
    }
   ],
   "source": [
    "title_data= title_data_reduced.dropna(how='any')\n",
    "title_data.count()"
   ]
  },
  {
   "cell_type": "code",
   "execution_count": null,
   "metadata": {},
   "outputs": [],
   "source": []
  }
 ],
 "metadata": {
  "kernelspec": {
   "display_name": "Python 3",
   "language": "python",
   "name": "python3"
  },
  "language_info": {
   "codemirror_mode": {
    "name": "ipython",
    "version": 3
   },
   "file_extension": ".py",
   "mimetype": "text/x-python",
   "name": "python",
   "nbconvert_exporter": "python",
   "pygments_lexer": "ipython3",
   "version": "3.7.4"
  }
 },
 "nbformat": 4,
 "nbformat_minor": 2
}
